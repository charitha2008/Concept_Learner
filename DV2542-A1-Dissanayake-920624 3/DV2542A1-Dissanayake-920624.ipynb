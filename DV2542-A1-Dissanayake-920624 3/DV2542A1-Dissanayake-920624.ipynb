{
 "cells": [
  {
   "cell_type": "code",
   "execution_count": 112,
   "metadata": {},
   "outputs": [],
   "source": [
    "import pandas as pd\n",
    "import numpy as np\n",
    "from sklearn.model_selection import train_test_split\n",
    "from sklearn import preprocessing\n",
    "import math\n",
    "\n",
    "file = 'spambase/spambase.data'\n",
    "dataframe=pd.read_csv(file,header=None)"
   ]
  },
  {
   "cell_type": "code",
   "execution_count": 113,
   "metadata": {},
   "outputs": [
    {
     "name": "stdout",
     "output_type": "stream",
     "text": [
      "Possible Instances: 144115188075855872\n",
      "Size of the Hypothesis Space: 2ˆpossible Instances\n",
      "Number of Possible Concepts 1570042899082081611640534563\n"
     ]
    }
   ],
   "source": [
    "possible_instances=(2**(57))\n",
    "print('Possible Instances:',possible_instances)\n",
    "print('Size of the Hypothesis Space: 2ˆpossible Instances')\n",
    "possible_concepts=(3**(57))\n",
    "print('Number of Possible Concepts',possible_concepts)\n",
    "#print(testing_data)"
   ]
  },
  {
   "cell_type": "code",
   "execution_count": 115,
   "metadata": {},
   "outputs": [
    {
     "name": "stderr",
     "output_type": "stream",
     "text": [
      "/Users/dilukshidissanayake/.local/share/virtualenvs/dilukshidissanayake-S0SDbHs-/lib/python3.7/site-packages/pandas/core/reshape/merge.py:1127: UserWarning: You are merging on int and float columns where the float values are not equal to their int representation\n",
      "  UserWarning,\n"
     ]
    }
   ],
   "source": [
    "#binarize data using mean value\n",
    "threshold=dataframe.mean()\n",
    "i=0\n",
    "result=pd.DataFrame()\n",
    "while (i<58):\n",
    "    #print(dataframe[i])\n",
    "    #print(threshold[i])\n",
    "    ad=pd.Series(np.where(dataframe[i] >= threshold[i], 1, 0),dataframe.index)\n",
    "    i=i+1\n",
    "    result = pd.concat([result, ad],axis=1,ignore_index=True)\n",
    "#print(result)\n",
    "dataframe = pd.merge(result, dataframe, how='left')"
   ]
  },
  {
   "cell_type": "code",
   "execution_count": 121,
   "metadata": {},
   "outputs": [],
   "source": [
    "#takes 80% for training and 20% for testing\n",
    "training_data, testing_data = train_test_split(dataframe, train_size=0.80)\n",
    "\n",
    "#training data is divided into spam and non spam so that model will only trained on spam data\n",
    "non_spam,spam=[x for _, x in training_data.groupby(training_data[57]==1)]\n",
    "\n",
    "#To make use of all data I used non spam data in training dataset to test the model.\n",
    "frames = [testing_data, non_spam]\n",
    "testing_data = pd.concat(frames)"
   ]
  },
  {
   "cell_type": "code",
   "execution_count": 122,
   "metadata": {},
   "outputs": [],
   "source": [
    "#Implementaton of the concept learner\n",
    "col = 57\n",
    "a = []\n",
    "data=spam.values.tolist()\n",
    "\n",
    "hyp = ['0'] * col\n",
    "\n",
    "for j in range(0,col):\n",
    "    hyp[j] = data[0][j];\n",
    "\n",
    "for i in range(0,len(data)):\n",
    "    if (data[i][57] == 1):\n",
    "        for j in range(0,col):\n",
    "            if data[i][j]!= hyp[j] and hyp[j]=='0':\n",
    "                hyp[j]=data[i][j]\n",
    "            elif data[i][j]!= hyp[j] and hyp[j]!='0':\n",
    "                hyp[j]='?'\n",
    "        j=j+1"
   ]
  },
  {
   "cell_type": "code",
   "execution_count": 123,
   "metadata": {},
   "outputs": [],
   "source": [
    "#Predicting the results based on trained model/testing\n",
    "true=0\n",
    "false=0\n",
    "X_test=testing_data.iloc[:,0:57]\n",
    "Y_test=testing_data.iloc[:,-1]\n",
    "Y_Pred=[]\n",
    "for i in range(0,len(X_test)):\n",
    "    for index in range(0,len(hyp)):\n",
    "        if X_test.iloc[i,:][index]==hyp[index]:\n",
    "            true=true+1\n",
    "        else:\n",
    "            false=false+1\n",
    "    if true==1:\n",
    "        Y_Pred.append(1)\n",
    "    else:\n",
    "        Y_Pred.append(0)\n",
    "    "
   ]
  },
  {
   "cell_type": "code",
   "execution_count": 124,
   "metadata": {},
   "outputs": [],
   "source": [
    "#Calculate accuracy of the model\n",
    "list3 = np.equal(Y_test,Y_Pred)\n",
    "def countS(lst): \n",
    "    return len(list(filter(None, lst))) \n",
    "\n",
    "correct=countS(list3)\n",
    "accuracy=(correct/len(list3))"
   ]
  },
  {
   "cell_type": "code",
   "execution_count": 125,
   "metadata": {},
   "outputs": [
    {
     "name": "stdout",
     "output_type": "stream",
     "text": [
      "No of Emails: 3159\n",
      "Correctly Detected: 2789\n",
      "Accuracy: 88.29 %\n"
     ]
    }
   ],
   "source": [
    "print('No of Emails:',len(list3))\n",
    "print('Correctly Detected:',correct)\n",
    "print('Accuracy:',round((accuracy*100),2),'%')"
   ]
  },
  {
   "cell_type": "code",
   "execution_count": null,
   "metadata": {},
   "outputs": [],
   "source": []
  }
 ],
 "metadata": {
  "kernelspec": {
   "display_name": "Python 3",
   "language": "python",
   "name": "python3"
  },
  "language_info": {
   "codemirror_mode": {
    "name": "ipython",
    "version": 3
   },
   "file_extension": ".py",
   "mimetype": "text/x-python",
   "name": "python",
   "nbconvert_exporter": "python",
   "pygments_lexer": "ipython3",
   "version": "3.7.5"
  }
 },
 "nbformat": 4,
 "nbformat_minor": 4
}
